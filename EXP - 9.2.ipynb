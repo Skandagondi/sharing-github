{
 "cells": [
  {
   "cell_type": "code",
   "execution_count": 1,
   "metadata": {},
   "outputs": [
    {
     "name": "stdout",
     "output_type": "stream",
     "text": [
      "Collecting vaderSentiment\n",
      "  Downloading https://files.pythonhosted.org/packages/76/fc/310e16254683c1ed35eeb97386986d6c00bc29df17ce280aed64d55537e9/vaderSentiment-3.3.2-py2.py3-none-any.whl (125kB)\n",
      "Requirement already satisfied: requests in c:\\programdata\\anaconda3\\lib\\site-packages (from vaderSentiment) (2.21.0)\n",
      "Requirement already satisfied: chardet<3.1.0,>=3.0.2 in c:\\programdata\\anaconda3\\lib\\site-packages (from requests->vaderSentiment) (3.0.4)\n",
      "Requirement already satisfied: idna<2.9,>=2.5 in c:\\programdata\\anaconda3\\lib\\site-packages (from requests->vaderSentiment) (2.8)\n",
      "Requirement already satisfied: urllib3<1.25,>=1.21.1 in c:\\programdata\\anaconda3\\lib\\site-packages (from requests->vaderSentiment) (1.24.1)\n",
      "Requirement already satisfied: certifi>=2017.4.17 in c:\\programdata\\anaconda3\\lib\\site-packages (from requests->vaderSentiment) (2019.3.9)\n",
      "Installing collected packages: vaderSentiment\n",
      "Successfully installed vaderSentiment-3.3.2\n",
      "Note: you may need to restart the kernel to use updated packages.\n"
     ]
    }
   ],
   "source": [
    "pip install vaderSentiment"
   ]
  },
  {
   "cell_type": "code",
   "execution_count": 7,
   "metadata": {},
   "outputs": [
    {
     "name": "stdout",
     "output_type": "stream",
     "text": [
      "Overall sentiment dictionary is :  {'neg': 0.025, 'neu': 0.911, 'pos': 0.065, 'compound': 0.9999}\n",
      "Chat history was rated as  2.5 % Negative\n",
      "Chat history was rated as  91.10000000000001 % Neutral\n",
      "Chat history was rated as  6.5 % Positive\n",
      "{'neg': 0.025, 'neu': 0.911, 'pos': 0.065, 'compound': 0.9999}\n",
      "Chat history Overall Rated As Positive\n"
     ]
    },
    {
     "data": {
      "image/png": "[encoded data removed]",
      "text/plain": [
       "<Figure size 432x288 with 1 Axes>"
      ]
     },
     "metadata": {
      "needs_background": "light"
     },
     "output_type": "display_data"
    }
   ],
   "source": [
    "from vaderSentiment.vaderSentiment import SentimentIntensityAnalyzer\n",
    "import pandas as pd \n",
    "fh=open(\"C:/Users/SKANDA GONDI/Downloads/test.txt\",\"r\",encoding=\"utf8\") \n",
    "text=fh.read()\n",
    "sid_obj = SentimentIntensityAnalyzer()\n",
    "sentiment_dict = sid_obj.polarity_scores(text) \n",
    "print(\"Overall sentiment dictionary is : \", sentiment_dict) \n",
    "print(\"Chat history was rated as \", sentiment_dict['neg']*100, \"% Negative\") \n",
    "print(\"Chat history was rated as \", sentiment_dict['neu']*100, \"% Neutral\") \n",
    "print(\"Chat history was rated as \", sentiment_dict['pos']*100, \"% Positive\") \n",
    "print(sentiment_dict) \n",
    "df=pd.DataFrame(sentiment_dict,columns =['neg', 'neu', 'pos'],index=[1,2,3]) \n",
    "df.plot.bar()  \n",
    "print(\"Chat history Overall Rated As\", end = \" \")\n",
    "if sentiment_dict['compound'] >= 0.05:\n",
    "    print(\"Positive\") \n",
    "elif sentiment_dict['compound'] <= - 0.05:\n",
    "    print(\"Negative\")\n",
    "else:\n",
    "    print(\"Neutral\")"
   ]
  },
  {
   "cell_type": "code",
   "execution_count": null,
   "metadata": {},
   "outputs": [],
   "source": []
  }
 ],
 "metadata": {
  "kernelspec": {
   "display_name": "Python 3",
   "language": "python",
   "name": "python3"
  },
  "language_info": {
   "codemirror_mode": {
    "name": "ipython",
    "version": 3
   },
   "file_extension": ".py",
   "mimetype": "text/x-python",
   "name": "python",
   "nbconvert_exporter": "python",
   "pygments_lexer": "ipython3",
   "version": "3.7.3"
  }
 },
 "nbformat": 4,
 "nbformat_minor": 2
}
